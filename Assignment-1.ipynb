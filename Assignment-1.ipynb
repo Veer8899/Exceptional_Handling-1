{
 "cells": [
  {
   "cell_type": "markdown",
   "id": "a4a164bd-bc0d-45e2-bf6a-7174e6617246",
   "metadata": {},
   "source": [
    "## Q1. What is an Exception in python? Write the difference between Exceptions and Syntax errors."
   ]
  },
  {
   "cell_type": "markdown",
   "id": "7a22adad-b94b-4e29-861f-6dd7085a3417",
   "metadata": {},
   "source": [
    "#### Exception is an event which occurs during execution of a program, when any exceptional arise in code then by the help of exception handling we can handle that unexpected situations. For example when we trying to perform an invalid, accessing unavailable resources or unexpected data then it will throw  errors like \"ZeroDivisionError\", \"TypeError\", \"KeyError\" etc, but in this case we can able to execute other code also without getting interrupted, if we don't use exception handling then if any error come, it will stop right there without executing all code. In simple way we can say python execute line by line code and if it found any error then it stop excuting the rest of the code. That's why we use exception handling to avoid such kind of interruption. For  Eg:"
   ]
  },
  {
   "cell_type": "code",
   "execution_count": 2,
   "id": "723ccfcd-9492-4414-a7a9-d07ef24ee22c",
   "metadata": {},
   "outputs": [],
   "source": [
    "import logging\n",
    "logging.basicConfig(filename = \"error.log\", level = logging.ERROR)\n",
    "\n",
    "try:\n",
    "    10/0\n",
    "except ZeroDivisionError as e:\n",
    "    logging.error(\"this is ZeroDivisionError {} \".format(e))\n",
    "    "
   ]
  },
  {
   "cell_type": "markdown",
   "id": "a452c89c-0975-425c-885a-fa4b48d7636a",
   "metadata": {},
   "source": [
    "### Syntax Errors:"
   ]
  },
  {
   "cell_type": "markdown",
   "id": "b2d38ecf-2b14-4082-bec0-6059c056267d",
   "metadata": {},
   "source": [
    "#### It occurs when the interpreter encounters invalid syntax in code. In simple way, we can say that the rules of python language syntax not satisfied. for example: missing colons, unmatched parentheses, or using undefined variables etc. "
   ]
  },
  {
   "cell_type": "markdown",
   "id": "cdb3d723-db28-41fd-ba67-6b3fc69f32f3",
   "metadata": {},
   "source": [
    "### Exceptions:"
   ]
  },
  {
   "cell_type": "markdown",
   "id": "b50013f0-de06-4a00-8452-1b4664433c51",
   "metadata": {},
   "source": [
    "#### It occur during the execution of a program, after it has passed the syntax checking phase.\n",
    "#### When any exceptional arise in code then by the help of exception handling we can handle that unexpected situations.\n",
    "#### For example when we trying to perform an invalid, accessing unavailable resources or unexpected data then it will throw errors like \"ZeroDivisionError\", \"TypeError\", \"KeyError\" etc,"
   ]
  },
  {
   "cell_type": "markdown",
   "id": "0aa7494f-87c0-401b-ba46-8b96000527c9",
   "metadata": {},
   "source": [
    "## Q2. What happens when an exception is not handled? Explain with an example."
   ]
  },
  {
   "cell_type": "markdown",
   "id": "ac46e98e-26ed-451d-8c38-e2b0a50b48d2",
   "metadata": {},
   "source": [
    "#### When an exception is not handled, it can lead to unexpected program termination and make it difficult to identify the cause of the issue. And it shows message like: print a traceback message that includes the exception type, the line of code where the exception occurred, and the call stack. After printing the traceback, the program terminates unexpectedly. "
   ]
  },
  {
   "cell_type": "markdown",
   "id": "0d04977c-8b60-4bb8-bdb3-1c2341e27006",
   "metadata": {},
   "source": [
    "#### for example:"
   ]
  },
  {
   "cell_type": "code",
   "execution_count": 9,
   "id": "c5c62001-600b-4da9-b305-e65e329c99f8",
   "metadata": {},
   "outputs": [
    {
     "ename": "ZeroDivisionError",
     "evalue": "division by zero",
     "output_type": "error",
     "traceback": [
      "\u001b[0;31m---------------------------------------------------------------------------\u001b[0m",
      "\u001b[0;31mZeroDivisionError\u001b[0m                         Traceback (most recent call last)",
      "Cell \u001b[0;32mIn[9], line 1\u001b[0m\n\u001b[0;32m----> 1\u001b[0m \u001b[38;5;241;43m10\u001b[39;49m\u001b[38;5;241;43m/\u001b[39;49m\u001b[38;5;241;43m0\u001b[39;49m\n",
      "\u001b[0;31mZeroDivisionError\u001b[0m: division by zero"
     ]
    }
   ],
   "source": [
    "10/0"
   ]
  },
  {
   "cell_type": "code",
   "execution_count": 14,
   "id": "4944d27b-9809-45f0-b29a-4354670def0a",
   "metadata": {},
   "outputs": [
    {
     "ename": "FileNotFoundError",
     "evalue": "[Errno 2] No such file or directory: 'test.txt'",
     "output_type": "error",
     "traceback": [
      "\u001b[0;31m---------------------------------------------------------------------------\u001b[0m",
      "\u001b[0;31mFileNotFoundError\u001b[0m                         Traceback (most recent call last)",
      "Cell \u001b[0;32mIn[14], line 1\u001b[0m\n\u001b[0;32m----> 1\u001b[0m f \u001b[38;5;241m=\u001b[39m \u001b[38;5;28;43mopen\u001b[39;49m\u001b[43m(\u001b[49m\u001b[38;5;124;43m\"\u001b[39;49m\u001b[38;5;124;43mtest.txt\u001b[39;49m\u001b[38;5;124;43m\"\u001b[39;49m\u001b[43m,\u001b[49m\u001b[38;5;124;43m\"\u001b[39;49m\u001b[38;5;124;43mr\u001b[39;49m\u001b[38;5;124;43m\"\u001b[39;49m\u001b[43m)\u001b[49m\n\u001b[1;32m      2\u001b[0m \u001b[38;5;28mprint\u001b[39m(\u001b[38;5;124m\"\u001b[39m\u001b[38;5;124mthis is my first file\u001b[39m\u001b[38;5;124m\"\u001b[39m)\n",
      "File \u001b[0;32m/opt/conda/lib/python3.10/site-packages/IPython/core/interactiveshell.py:282\u001b[0m, in \u001b[0;36m_modified_open\u001b[0;34m(file, *args, **kwargs)\u001b[0m\n\u001b[1;32m    275\u001b[0m \u001b[38;5;28;01mif\u001b[39;00m file \u001b[38;5;129;01min\u001b[39;00m {\u001b[38;5;241m0\u001b[39m, \u001b[38;5;241m1\u001b[39m, \u001b[38;5;241m2\u001b[39m}:\n\u001b[1;32m    276\u001b[0m     \u001b[38;5;28;01mraise\u001b[39;00m \u001b[38;5;167;01mValueError\u001b[39;00m(\n\u001b[1;32m    277\u001b[0m         \u001b[38;5;124mf\u001b[39m\u001b[38;5;124m\"\u001b[39m\u001b[38;5;124mIPython won\u001b[39m\u001b[38;5;124m'\u001b[39m\u001b[38;5;124mt let you open fd=\u001b[39m\u001b[38;5;132;01m{\u001b[39;00mfile\u001b[38;5;132;01m}\u001b[39;00m\u001b[38;5;124m by default \u001b[39m\u001b[38;5;124m\"\u001b[39m\n\u001b[1;32m    278\u001b[0m         \u001b[38;5;124m\"\u001b[39m\u001b[38;5;124mas it is likely to crash IPython. If you know what you are doing, \u001b[39m\u001b[38;5;124m\"\u001b[39m\n\u001b[1;32m    279\u001b[0m         \u001b[38;5;124m\"\u001b[39m\u001b[38;5;124myou can use builtins\u001b[39m\u001b[38;5;124m'\u001b[39m\u001b[38;5;124m open.\u001b[39m\u001b[38;5;124m\"\u001b[39m\n\u001b[1;32m    280\u001b[0m     )\n\u001b[0;32m--> 282\u001b[0m \u001b[38;5;28;01mreturn\u001b[39;00m \u001b[43mio_open\u001b[49m\u001b[43m(\u001b[49m\u001b[43mfile\u001b[49m\u001b[43m,\u001b[49m\u001b[43m \u001b[49m\u001b[38;5;241;43m*\u001b[39;49m\u001b[43margs\u001b[49m\u001b[43m,\u001b[49m\u001b[43m \u001b[49m\u001b[38;5;241;43m*\u001b[39;49m\u001b[38;5;241;43m*\u001b[39;49m\u001b[43mkwargs\u001b[49m\u001b[43m)\u001b[49m\n",
      "\u001b[0;31mFileNotFoundError\u001b[0m: [Errno 2] No such file or directory: 'test.txt'"
     ]
    }
   ],
   "source": [
    "f = open(\"test.txt\",\"r\")\n",
    "print(\"this is my first file\")"
   ]
  },
  {
   "cell_type": "markdown",
   "id": "f0599a61-41d3-48a1-ba7a-8d8bacd3e330",
   "metadata": {},
   "source": [
    "## Q3. Which Python statements are used to catch and handle exceptions? Explain with an example."
   ]
  },
  {
   "cell_type": "markdown",
   "id": "989f0d6b-da75-4220-813a-0677ce0c24ff",
   "metadata": {},
   "source": [
    "#### 'try' and 'except' Python statement are used to catch and handle exceptions."
   ]
  },
  {
   "cell_type": "code",
   "execution_count": 1,
   "id": "74f9b843-37dc-47fc-90ac-6d2690adf91c",
   "metadata": {},
   "outputs": [],
   "source": [
    "import logging"
   ]
  },
  {
   "cell_type": "code",
   "execution_count": 2,
   "id": "40cfb46b-24d2-4bb1-85c0-9ee85007e3e3",
   "metadata": {},
   "outputs": [],
   "source": [
    "logging.basicConfig(filename = \"error1.log\", level = logging.ERROR)\n",
    "\n",
    "try:\n",
    "    a = 10/0\n",
    "    logging.info(\"a: {} \", a)\n",
    "except ZeroDivisionError as e:\n",
    "    logging.error(\"Zero Division Error occured {} \".format(e)) \n",
    "    "
   ]
  },
  {
   "cell_type": "markdown",
   "id": "dba01f66-8dbb-44df-ad27-56a118be6d8f",
   "metadata": {},
   "source": [
    "## Q4. Explain with an example:\n",
    "\n",
    "## a. try and else\n",
    "## b. finally\n",
    "## c. raise"
   ]
  },
  {
   "cell_type": "markdown",
   "id": "efe3be0d-0e7f-4d65-ba1f-c05befb523a6",
   "metadata": {},
   "source": [
    "### using try, else and raise"
   ]
  },
  {
   "cell_type": "markdown",
   "id": "a9fc603d-8bba-404c-a932-b8889a284c29",
   "metadata": {},
   "source": [
    "#### try and else -->The try block lets us test a block of code for errors.  The else block lets you execute code when there is no error and it is also called as conditional statement."
   ]
  },
  {
   "cell_type": "markdown",
   "id": "723a9b3e-3521-43e9-85aa-4c372ce75522",
   "metadata": {},
   "source": [
    "#### raise --> The raise keyword is used to raise an exception and it raises a specific exception when a condition is satisfied or the code encounters an error."
   ]
  },
  {
   "cell_type": "code",
   "execution_count": 5,
   "id": "8636fbf4-da6b-438a-977d-d7c078b6286f",
   "metadata": {},
   "outputs": [],
   "source": [
    "import logging\n",
    "logging.basicConfig(filename = \"age.log\", level = logging.INFO) #creating log file to store the data\n",
    "\n",
    "\n",
    "class validage(Exception):\n",
    "    \n",
    "    def __init__(self, age):\n",
    "        self.age = age\n",
    "        "
   ]
  },
  {
   "cell_type": "code",
   "execution_count": 6,
   "id": "6bc619e6-758a-4f8f-ac73-d314fb39cb14",
   "metadata": {},
   "outputs": [],
   "source": [
    "def validateage(age):\n",
    "    if age < 0:\n",
    "        raise validage(\"entered age is negative \")\n",
    "    elif age > 150:\n",
    "        raise validage(\"entered aged is very high\")\n",
    "    else:\n",
    "        logging.info(\"age is valid\")\n",
    "        "
   ]
  },
  {
   "cell_type": "code",
   "execution_count": 11,
   "id": "aac1af2d-182f-45e9-af88-7a84ebb35d76",
   "metadata": {},
   "outputs": [
    {
     "name": "stdin",
     "output_type": "stream",
     "text": [
      "enter ur age 18\n"
     ]
    }
   ],
   "source": [
    "try:\n",
    "    age = int(input(\"enter ur age\")) #for taking input\n",
    "    logging.info(age) # using logging to store input data \n",
    "    validateage(age)\n",
    "except validage as e:\n",
    "    logging.info(\"print validage {} \".format(e))\n"
   ]
  },
  {
   "cell_type": "markdown",
   "id": "19c14791-761d-423f-9c91-6ce1965b1e2d",
   "metadata": {},
   "source": [
    "### Finally -->The finally block will be executed no matter if the try block raises an error or not. This can be useful to close objects and clean up resources."
   ]
  },
  {
   "cell_type": "code",
   "execution_count": 6,
   "id": "417dca89-b402-4572-9420-a5f741096a22",
   "metadata": {},
   "outputs": [
    {
     "name": "stdout",
     "output_type": "stream",
     "text": [
      "print anyway\n"
     ]
    },
    {
     "ename": "FileNotFoundError",
     "evalue": "[Errno 2] No such file or directory: 'test.txt'",
     "output_type": "error",
     "traceback": [
      "\u001b[0;31m---------------------------------------------------------------------------\u001b[0m",
      "\u001b[0;31mFileNotFoundError\u001b[0m                         Traceback (most recent call last)",
      "Cell \u001b[0;32mIn[6], line 2\u001b[0m\n\u001b[1;32m      1\u001b[0m \u001b[38;5;28;01mtry\u001b[39;00m:\n\u001b[0;32m----> 2\u001b[0m     \u001b[38;5;28;01mwith\u001b[39;00m \u001b[38;5;28;43mopen\u001b[39;49m\u001b[43m(\u001b[49m\u001b[38;5;124;43m\"\u001b[39;49m\u001b[38;5;124;43mtest.txt\u001b[39;49m\u001b[38;5;124;43m\"\u001b[39;49m\u001b[43m,\u001b[49m\u001b[43m \u001b[49m\u001b[38;5;124;43m'\u001b[39;49m\u001b[38;5;124;43mr\u001b[39;49m\u001b[38;5;124;43m'\u001b[39;49m\u001b[43m)\u001b[49m \u001b[38;5;28;01mas\u001b[39;00m f:\n\u001b[1;32m      3\u001b[0m         f\u001b[38;5;241m.\u001b[39mwrite(\u001b[38;5;124m\"\u001b[39m\u001b[38;5;124mthis is my data file \u001b[39m\u001b[38;5;124m\"\u001b[39m)\n\u001b[1;32m      4\u001b[0m \u001b[38;5;28;01mfinally\u001b[39;00m :\n",
      "File \u001b[0;32m/opt/conda/lib/python3.10/site-packages/IPython/core/interactiveshell.py:282\u001b[0m, in \u001b[0;36m_modified_open\u001b[0;34m(file, *args, **kwargs)\u001b[0m\n\u001b[1;32m    275\u001b[0m \u001b[38;5;28;01mif\u001b[39;00m file \u001b[38;5;129;01min\u001b[39;00m {\u001b[38;5;241m0\u001b[39m, \u001b[38;5;241m1\u001b[39m, \u001b[38;5;241m2\u001b[39m}:\n\u001b[1;32m    276\u001b[0m     \u001b[38;5;28;01mraise\u001b[39;00m \u001b[38;5;167;01mValueError\u001b[39;00m(\n\u001b[1;32m    277\u001b[0m         \u001b[38;5;124mf\u001b[39m\u001b[38;5;124m\"\u001b[39m\u001b[38;5;124mIPython won\u001b[39m\u001b[38;5;124m'\u001b[39m\u001b[38;5;124mt let you open fd=\u001b[39m\u001b[38;5;132;01m{\u001b[39;00mfile\u001b[38;5;132;01m}\u001b[39;00m\u001b[38;5;124m by default \u001b[39m\u001b[38;5;124m\"\u001b[39m\n\u001b[1;32m    278\u001b[0m         \u001b[38;5;124m\"\u001b[39m\u001b[38;5;124mas it is likely to crash IPython. If you know what you are doing, \u001b[39m\u001b[38;5;124m\"\u001b[39m\n\u001b[1;32m    279\u001b[0m         \u001b[38;5;124m\"\u001b[39m\u001b[38;5;124myou can use builtins\u001b[39m\u001b[38;5;124m'\u001b[39m\u001b[38;5;124m open.\u001b[39m\u001b[38;5;124m\"\u001b[39m\n\u001b[1;32m    280\u001b[0m     )\n\u001b[0;32m--> 282\u001b[0m \u001b[38;5;28;01mreturn\u001b[39;00m \u001b[43mio_open\u001b[49m\u001b[43m(\u001b[49m\u001b[43mfile\u001b[49m\u001b[43m,\u001b[49m\u001b[43m \u001b[49m\u001b[38;5;241;43m*\u001b[39;49m\u001b[43margs\u001b[49m\u001b[43m,\u001b[49m\u001b[43m \u001b[49m\u001b[38;5;241;43m*\u001b[39;49m\u001b[38;5;241;43m*\u001b[39;49m\u001b[43mkwargs\u001b[49m\u001b[43m)\u001b[49m\n",
      "\u001b[0;31mFileNotFoundError\u001b[0m: [Errno 2] No such file or directory: 'test.txt'"
     ]
    }
   ],
   "source": [
    "try:\n",
    "    with open(\"test.txt\", 'r') as f:\n",
    "        f.write(\"this is my data file \")\n",
    "finally :\n",
    "      print(\"print anyway\")"
   ]
  },
  {
   "cell_type": "markdown",
   "id": "a44cd17c-7e29-4e3a-bf09-35751acb1efd",
   "metadata": {},
   "source": [
    "## 5. What are Custom Exceptions in python? Why do we need Custom Exceptions? Explain with an example."
   ]
  },
  {
   "cell_type": "markdown",
   "id": "4ab5105e-2939-4f1d-9ff0-f53f62bffed8",
   "metadata": {},
   "source": [
    "#### In Python, custom exceptions allow you to define your own exception classes that can be raised and look like built-in exceptions.\n",
    "#### We need because we can create custom exceptions to handle specific error conditions or to provide more meaningful error messages in our code and it can also help to improve the clarity, modularity, reusability and maintainability of our code.\n",
    "#### for example:"
   ]
  },
  {
   "cell_type": "code",
   "execution_count": 7,
   "id": "d0470d87-b705-4cfe-a539-4c447049ee26",
   "metadata": {},
   "outputs": [],
   "source": [
    "import logging\n",
    "logging.basicConfig(filename = \"custom.log\", level = logging.INFO)#creating log file to store the data\n",
    "\n",
    "class vaildage(Exception): #creating custom exception class\n",
    "    def __init__(self, age):\n",
    "        self.age = age"
   ]
  },
  {
   "cell_type": "code",
   "execution_count": 8,
   "id": "ee783bab-7a20-4666-88f1-328f0b2bea5f",
   "metadata": {},
   "outputs": [],
   "source": [
    "def vaildateage(age):\n",
    "    if age < 0:\n",
    "        raise vaildage(\"entered age is negative\")\n",
    "    elif age > 200:\n",
    "        raise vaildage(\"entered age is very vey high\")\n",
    "    else:\n",
    "        logging.info(\"age is vaild\")"
   ]
  },
  {
   "cell_type": "code",
   "execution_count": 11,
   "id": "244676d9-94ed-4a1e-b6f8-daa04c07edab",
   "metadata": {},
   "outputs": [
    {
     "name": "stdin",
     "output_type": "stream",
     "text": [
      "enter your age:  201\n"
     ]
    }
   ],
   "source": [
    "try:\n",
    "    age = int(input(\"enter your age: \"))\n",
    "    logging.info(age) # using logging to store input data\n",
    "    vaildateage(age)\n",
    "except vaildage as e:\n",
    "    logging.info(\"Give vaild age, {} \".format(e))"
   ]
  },
  {
   "cell_type": "markdown",
   "id": "607ebb35-c81c-45ef-9379-662ccb1e7d7d",
   "metadata": {},
   "source": [
    "## 6. Create custom exception class. Use this class to handle an exception."
   ]
  },
  {
   "cell_type": "code",
   "execution_count": 2,
   "id": "0a9601b9-a4e1-4be9-8c71-25426bfb242b",
   "metadata": {},
   "outputs": [],
   "source": [
    "import logging\n",
    "logging.basicConfig(filename = \"Withdraw.log\", level = logging.INFO)#creating log file to store the data\n",
    "\n",
    "class WithdrawMoney(Exception):  #creating custom exception class\n",
    "    def __init__(self, amount):\n",
    "        self.amount = amount\n",
    "    "
   ]
  },
  {
   "cell_type": "code",
   "execution_count": 5,
   "id": "e5c45e89-09f7-47ee-94db-12471639b3ee",
   "metadata": {},
   "outputs": [],
   "source": [
    "def Withdraw(amount):\n",
    "    if amount <= 500:\n",
    "        raise WithdrawMoney(\"Balance is low. So, you can't withdraw money. \")\n",
    "    else:\n",
    "        logging.info(\"Balance is available. Now, you can withdraw. \")"
   ]
  },
  {
   "cell_type": "code",
   "execution_count": 6,
   "id": "22baad4a-3252-47f1-bedc-3d4da088313b",
   "metadata": {},
   "outputs": [
    {
     "name": "stdin",
     "output_type": "stream",
     "text": [
      "Enter your amount:  500\n"
     ]
    }
   ],
   "source": [
    "try:\n",
    "    amount = float(input(\"Enter your amount: \")) #for taking input\n",
    "    logging.info(amount)# using logging to store input data\n",
    "    Withdraw(amount)\n",
    "except WithdrawMoney as e:\n",
    "    logging.info(\"Deposit Amount, {} \".format(e))"
   ]
  }
 ],
 "metadata": {
  "kernelspec": {
   "display_name": "Python 3 (ipykernel)",
   "language": "python",
   "name": "python3"
  },
  "language_info": {
   "codemirror_mode": {
    "name": "ipython",
    "version": 3
   },
   "file_extension": ".py",
   "mimetype": "text/x-python",
   "name": "python",
   "nbconvert_exporter": "python",
   "pygments_lexer": "ipython3",
   "version": "3.10.8"
  }
 },
 "nbformat": 4,
 "nbformat_minor": 5
}
